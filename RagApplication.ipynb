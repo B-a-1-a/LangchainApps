{
 "cells": [
  {
   "cell_type": "raw",
   "id": "315ce3fc-5932-4728-84e0-71b6ddb531ea",
   "metadata": {},
   "source": [
    "#print(\"yo yo\")\n",
    "import warnings\n",
    "warnings.filterwarnings('ignore')\n",
    "!pip install ipywidgets\n",
    "!pip install langchain langchain_community langchain_chroma\n",
    "%%hide output"
   ]
  },
  {
   "cell_type": "code",
   "execution_count": 32,
   "id": "08df588c-5f1c-487e-bd6d-0a44c0cbaeac",
   "metadata": {},
   "outputs": [
    {
     "name": "stderr",
     "output_type": "stream",
     "text": [
      "huggingface/tokenizers: The current process just got forked, after parallelism has already been used. Disabling parallelism to avoid deadlocks...\n",
      "To disable this warning, you can either:\n",
      "\t- Avoid using `tokenizers` before the fork if possible\n",
      "\t- Explicitly set the environment variable TOKENIZERS_PARALLELISM=(true | false)\n",
      "huggingface/tokenizers: The current process just got forked, after parallelism has already been used. Disabling parallelism to avoid deadlocks...\n",
      "To disable this warning, you can either:\n",
      "\t- Avoid using `tokenizers` before the fork if possible\n",
      "\t- Explicitly set the environment variable TOKENIZERS_PARALLELISM=(true | false)\n"
     ]
    },
    {
     "name": "stdout",
     "output_type": "stream",
     "text": [
      "Requirement already satisfied: langchain-huggingface in /opt/anaconda3/lib/python3.12/site-packages (0.0.3)\n",
      "Requirement already satisfied: huggingface-hub>=0.23.0 in /opt/anaconda3/lib/python3.12/site-packages (from langchain-huggingface) (0.24.6)\n",
      "Requirement already satisfied: langchain-core<0.3,>=0.1.52 in /opt/anaconda3/lib/python3.12/site-packages (from langchain-huggingface) (0.2.38)\n",
      "Requirement already satisfied: sentence-transformers>=2.6.0 in /opt/anaconda3/lib/python3.12/site-packages (from langchain-huggingface) (3.0.1)\n",
      "Requirement already satisfied: tokenizers>=0.19.1 in /opt/anaconda3/lib/python3.12/site-packages (from langchain-huggingface) (0.19.1)\n",
      "Requirement already satisfied: transformers>=4.39.0 in /opt/anaconda3/lib/python3.12/site-packages (from langchain-huggingface) (4.44.2)\n",
      "Requirement already satisfied: filelock in /opt/anaconda3/lib/python3.12/site-packages (from huggingface-hub>=0.23.0->langchain-huggingface) (3.13.1)\n",
      "Requirement already satisfied: fsspec>=2023.5.0 in /opt/anaconda3/lib/python3.12/site-packages (from huggingface-hub>=0.23.0->langchain-huggingface) (2024.3.1)\n",
      "Requirement already satisfied: packaging>=20.9 in /opt/anaconda3/lib/python3.12/site-packages (from huggingface-hub>=0.23.0->langchain-huggingface) (23.2)\n",
      "Requirement already satisfied: pyyaml>=5.1 in /opt/anaconda3/lib/python3.12/site-packages (from huggingface-hub>=0.23.0->langchain-huggingface) (6.0.1)\n",
      "Requirement already satisfied: requests in /opt/anaconda3/lib/python3.12/site-packages (from huggingface-hub>=0.23.0->langchain-huggingface) (2.32.2)\n",
      "Requirement already satisfied: tqdm>=4.42.1 in /opt/anaconda3/lib/python3.12/site-packages (from huggingface-hub>=0.23.0->langchain-huggingface) (4.66.4)\n",
      "Requirement already satisfied: typing-extensions>=3.7.4.3 in /opt/anaconda3/lib/python3.12/site-packages (from huggingface-hub>=0.23.0->langchain-huggingface) (4.11.0)\n",
      "Requirement already satisfied: jsonpatch<2.0,>=1.33 in /opt/anaconda3/lib/python3.12/site-packages (from langchain-core<0.3,>=0.1.52->langchain-huggingface) (1.33)\n",
      "Requirement already satisfied: langsmith<0.2.0,>=0.1.75 in /opt/anaconda3/lib/python3.12/site-packages (from langchain-core<0.3,>=0.1.52->langchain-huggingface) (0.1.116)\n",
      "Requirement already satisfied: pydantic<3.0.0,>=2.7.4 in /opt/anaconda3/lib/python3.12/site-packages (from langchain-core<0.3,>=0.1.52->langchain-huggingface) (2.9.0)\n",
      "Requirement already satisfied: tenacity!=8.4.0,<9.0.0,>=8.1.0 in /opt/anaconda3/lib/python3.12/site-packages (from langchain-core<0.3,>=0.1.52->langchain-huggingface) (8.5.0)\n",
      "Requirement already satisfied: torch>=1.11.0 in /opt/anaconda3/lib/python3.12/site-packages (from sentence-transformers>=2.6.0->langchain-huggingface) (2.4.1)\n",
      "Requirement already satisfied: numpy in /opt/anaconda3/lib/python3.12/site-packages (from sentence-transformers>=2.6.0->langchain-huggingface) (1.26.4)\n",
      "Requirement already satisfied: scikit-learn in /opt/anaconda3/lib/python3.12/site-packages (from sentence-transformers>=2.6.0->langchain-huggingface) (1.4.2)\n",
      "Requirement already satisfied: scipy in /opt/anaconda3/lib/python3.12/site-packages (from sentence-transformers>=2.6.0->langchain-huggingface) (1.13.1)\n",
      "Requirement already satisfied: Pillow in /opt/anaconda3/lib/python3.12/site-packages (from sentence-transformers>=2.6.0->langchain-huggingface) (10.3.0)\n",
      "Requirement already satisfied: regex!=2019.12.17 in /opt/anaconda3/lib/python3.12/site-packages (from transformers>=4.39.0->langchain-huggingface) (2023.10.3)\n",
      "Requirement already satisfied: safetensors>=0.4.1 in /opt/anaconda3/lib/python3.12/site-packages (from transformers>=4.39.0->langchain-huggingface) (0.4.5)\n",
      "Requirement already satisfied: jsonpointer>=1.9 in /opt/anaconda3/lib/python3.12/site-packages (from jsonpatch<2.0,>=1.33->langchain-core<0.3,>=0.1.52->langchain-huggingface) (2.1)\n",
      "Requirement already satisfied: httpx<1,>=0.23.0 in /opt/anaconda3/lib/python3.12/site-packages (from langsmith<0.2.0,>=0.1.75->langchain-core<0.3,>=0.1.52->langchain-huggingface) (0.27.0)\n",
      "Requirement already satisfied: orjson<4.0.0,>=3.9.14 in /opt/anaconda3/lib/python3.12/site-packages (from langsmith<0.2.0,>=0.1.75->langchain-core<0.3,>=0.1.52->langchain-huggingface) (3.10.7)\n",
      "Requirement already satisfied: annotated-types>=0.4.0 in /opt/anaconda3/lib/python3.12/site-packages (from pydantic<3.0.0,>=2.7.4->langchain-core<0.3,>=0.1.52->langchain-huggingface) (0.6.0)\n",
      "Requirement already satisfied: pydantic-core==2.23.2 in /opt/anaconda3/lib/python3.12/site-packages (from pydantic<3.0.0,>=2.7.4->langchain-core<0.3,>=0.1.52->langchain-huggingface) (2.23.2)\n",
      "Requirement already satisfied: tzdata in /opt/anaconda3/lib/python3.12/site-packages (from pydantic<3.0.0,>=2.7.4->langchain-core<0.3,>=0.1.52->langchain-huggingface) (2023.3)\n",
      "Requirement already satisfied: charset-normalizer<4,>=2 in /opt/anaconda3/lib/python3.12/site-packages (from requests->huggingface-hub>=0.23.0->langchain-huggingface) (2.0.4)\n",
      "Requirement already satisfied: idna<4,>=2.5 in /opt/anaconda3/lib/python3.12/site-packages (from requests->huggingface-hub>=0.23.0->langchain-huggingface) (3.7)\n",
      "Requirement already satisfied: urllib3<3,>=1.21.1 in /opt/anaconda3/lib/python3.12/site-packages (from requests->huggingface-hub>=0.23.0->langchain-huggingface) (2.2.2)\n",
      "Requirement already satisfied: certifi>=2017.4.17 in /opt/anaconda3/lib/python3.12/site-packages (from requests->huggingface-hub>=0.23.0->langchain-huggingface) (2024.8.30)\n",
      "Requirement already satisfied: sympy in /opt/anaconda3/lib/python3.12/site-packages (from torch>=1.11.0->sentence-transformers>=2.6.0->langchain-huggingface) (1.12)\n",
      "Requirement already satisfied: networkx in /opt/anaconda3/lib/python3.12/site-packages (from torch>=1.11.0->sentence-transformers>=2.6.0->langchain-huggingface) (3.2.1)\n",
      "Requirement already satisfied: jinja2 in /opt/anaconda3/lib/python3.12/site-packages (from torch>=1.11.0->sentence-transformers>=2.6.0->langchain-huggingface) (3.1.4)\n",
      "Requirement already satisfied: setuptools in /opt/anaconda3/lib/python3.12/site-packages (from torch>=1.11.0->sentence-transformers>=2.6.0->langchain-huggingface) (69.5.1)\n",
      "Requirement already satisfied: joblib>=1.2.0 in /opt/anaconda3/lib/python3.12/site-packages (from scikit-learn->sentence-transformers>=2.6.0->langchain-huggingface) (1.4.2)\n",
      "Requirement already satisfied: threadpoolctl>=2.0.0 in /opt/anaconda3/lib/python3.12/site-packages (from scikit-learn->sentence-transformers>=2.6.0->langchain-huggingface) (2.2.0)\n",
      "Requirement already satisfied: anyio in /opt/anaconda3/lib/python3.12/site-packages (from httpx<1,>=0.23.0->langsmith<0.2.0,>=0.1.75->langchain-core<0.3,>=0.1.52->langchain-huggingface) (4.2.0)\n",
      "Requirement already satisfied: httpcore==1.* in /opt/anaconda3/lib/python3.12/site-packages (from httpx<1,>=0.23.0->langsmith<0.2.0,>=0.1.75->langchain-core<0.3,>=0.1.52->langchain-huggingface) (1.0.2)\n",
      "Requirement already satisfied: sniffio in /opt/anaconda3/lib/python3.12/site-packages (from httpx<1,>=0.23.0->langsmith<0.2.0,>=0.1.75->langchain-core<0.3,>=0.1.52->langchain-huggingface) (1.3.0)\n",
      "Requirement already satisfied: h11<0.15,>=0.13 in /opt/anaconda3/lib/python3.12/site-packages (from httpcore==1.*->httpx<1,>=0.23.0->langsmith<0.2.0,>=0.1.75->langchain-core<0.3,>=0.1.52->langchain-huggingface) (0.14.0)\n",
      "Requirement already satisfied: MarkupSafe>=2.0 in /opt/anaconda3/lib/python3.12/site-packages (from jinja2->torch>=1.11.0->sentence-transformers>=2.6.0->langchain-huggingface) (2.1.3)\n",
      "Requirement already satisfied: mpmath>=0.19 in /opt/anaconda3/lib/python3.12/site-packages (from sympy->torch>=1.11.0->sentence-transformers>=2.6.0->langchain-huggingface) (1.3.0)\n"
     ]
    }
   ],
   "source": [
    "!pip install -qU langchain-groq\n",
    "!pip install -U langchain-huggingface"
   ]
  },
  {
   "cell_type": "code",
   "execution_count": 34,
   "id": "8af73cc7-574c-4648-b07e-412240f2e393",
   "metadata": {},
   "outputs": [
    {
     "name": "stdin",
     "output_type": "stream",
     "text": [
      " ········\n"
     ]
    }
   ],
   "source": [
    "import getpass\n",
    "import os \n",
    "\n",
    "os.environ[\"GROQ_API_KEY\"] = getpass.getpass()\n",
    "\n",
    "from langchain_groq import ChatGroq\n",
    "\n",
    "llm = ChatGroq(model=\"llama3-70b-8192\", temperature = 0)"
   ]
  },
  {
   "cell_type": "code",
   "execution_count": 35,
   "id": "a322a827-4830-4e67-ae1f-29cfcb3cf037",
   "metadata": {},
   "outputs": [
    {
     "data": {
      "text/plain": [
       "21182"
      ]
     },
     "execution_count": 35,
     "metadata": {},
     "output_type": "execute_result"
    }
   ],
   "source": [
    "import bs4\n",
    "from langchain import hub\n",
    "from langchain_chroma import Chroma\n",
    "from langchain_community.document_loaders import WebBaseLoader\n",
    "from langchain_core.output_parsers import StrOutputParser\n",
    "from langchain_core.runnables import RunnablePassthrough\n",
    "from langchain_huggingface import HuggingFaceEmbeddings\n",
    "from langchain_text_splitters import RecursiveCharacterTextSplitter\n",
    "\n",
    "# Load, chunk and index the contents of the blog.\n",
    "loader = WebBaseLoader([\"https://admissions.wisc.edu/apply-as-a-freshman/\", \"https://admissions.wisc.edu/apply-as-a-transfer/\", \n",
    "                        \"https://admissions.wisc.edu/apply-as-a-reentry-student/\", \n",
    "                        \"https://admissions.wisc.edu/apply-as-a-second-degree-student/\"]\n",
    ")\n",
    "\n",
    "docs = loader.load()\n",
    "len(docs[0].page_content)\n",
    "\n",
    "#docs\n"
   ]
  },
  {
   "cell_type": "code",
   "execution_count": 36,
   "id": "450f79ec-b91a-41eb-a491-b446125d6a3e",
   "metadata": {},
   "outputs": [
    {
     "name": "stdout",
     "output_type": "stream",
     "text": [
      "{'source': 'https://admissions.wisc.edu/apply-as-a-transfer/', 'title': 'Apply as a Transfer Student – Office of Admissions and Recruitment – UW–Madison', 'description': 'Every year, we are fortunate to receive thousands of\\xa0applications\\xa0from a diverse range of students who are incredibly bright, engaged, and passionate. They have challenged themselves and those around them to make a difference in the world. They know that the University of Wisconsin–Madison is their next step toward something extraordinary—a place where they can lead.', 'language': 'en-US'}\n"
     ]
    }
   ],
   "source": [
    "len(docs)\n",
    "print(docs[1].metadata)"
   ]
  },
  {
   "cell_type": "code",
   "execution_count": 37,
   "id": "9ae6bd0f-7d01-4173-ac1a-1ded81a4e9c0",
   "metadata": {},
   "outputs": [],
   "source": [
    "text_splitter = RecursiveCharacterTextSplitter(chunk_size=800, chunk_overlap=300)\n",
    "splits = text_splitter.split_documents(docs)\n",
    "vectorstore = Chroma.from_documents(documents=splits, embedding=HuggingFaceEmbeddings())\n",
    "\n",
    "# Retrieve and generate using the relevant snippets of the blog.\n",
    "retriever = vectorstore.as_retriever()"
   ]
  },
  {
   "cell_type": "code",
   "execution_count": 38,
   "id": "31cd1329-7805-490a-b19d-5e1e377e6cf7",
   "metadata": {},
   "outputs": [],
   "source": [
    "def format_docs(docs):\n",
    "    return \"\\n\\n\".join(doc.page_content for doc in docs)"
   ]
  },
  {
   "cell_type": "code",
   "execution_count": 43,
   "id": "1a4bd3d1-b1c4-463a-a7c9-92f911b2d4ea",
   "metadata": {},
   "outputs": [],
   "source": [
    "from langchain_core.prompts import PromptTemplate\n",
    "\n",
    "template = \"\"\"You are an addmissions advisor at UW Madison, use the following pieces of context to aid your answer to the question at the end.\n",
    "If you don't know the answer, say that you don't know, but you recommend the student to consult wisc.edu and reach out to admissions or help offices.\n",
    "Use three sentences maximum and keep the answer as concise as possible.\n",
    "If the student has not specified what type of student they are, assume First-Year Student. \n",
    "Always say \"thanks for asking!\" at the end of the answer.\n",
    "\n",
    "Context: {context}\n",
    "\n",
    "Question: {question}\n",
    "\n",
    "Helpful Answer:\"\"\"\n",
    "college_advisor = PromptTemplate.from_template(template)"
   ]
  },
  {
   "cell_type": "code",
   "execution_count": 44,
   "id": "a0a531c6-4164-4f84-8e92-c272732116aa",
   "metadata": {},
   "outputs": [],
   "source": [
    "rag_chain = (\n",
    "    {\"context\": retriever | format_docs, \"question\": RunnablePassthrough()}\n",
    "    | college_advisor\n",
    "    | llm\n",
    "    | StrOutputParser()\n",
    ")\n",
    "\n",
    "#rag_chain.invoke(\"What is RAG?\")"
   ]
  },
  {
   "cell_type": "code",
   "execution_count": 45,
   "id": "509c4b6a-4564-44ea-ac6d-75ce3954ed85",
   "metadata": {},
   "outputs": [],
   "source": [
    "# from langchain.chains import create_retrieval_chain\n",
    "# from langchain_core.prompts import ChatPromptTemplate\n",
    "# from langchain.chains.combine_documents import create_stuff_documents_chain\n",
    "\n",
    "# system_prompt = (\n",
    "# \"\"\"You are an addmissions advisor at UW Madison, use the following pieces of context to aid your answer to the question at the end.\n",
    "# If you don't know the answer, say that you don't know, but you recommend the student to consult wisc.edu and reach out to admissions or help offices.\n",
    "# Use three sentences maximum and keep the answer as concise as possible.\n",
    "# If the student has not specified what type of student they are, assume First-Year Student. \n",
    "# Always say \"thanks for asking!\" at the end of the answer.\n",
    "\n",
    "# Context: {context}\"\"\"\n",
    "# )\n",
    "\n",
    "# prompt = ChatPromptTemplate.from_messages(\n",
    "#     [\n",
    "#         (\"system\", system_prompt),\n",
    "#         (\"human\", \"{input}\"),\n",
    "#     ]\n",
    "# )\n",
    "\n",
    "# question_answer_chain = create_stuff_documents_chain(llm, prompt)\n",
    "# rag_chain = create_retrieval_chain(retriever, question_answer_chain)"
   ]
  },
  {
   "cell_type": "code",
   "execution_count": null,
   "id": "2339ad01-990a-45ef-8baf-8c19ed96ff3c",
   "metadata": {},
   "outputs": [],
   "source": []
  },
  {
   "cell_type": "code",
   "execution_count": 46,
   "id": "0dcbf36c-7710-4e9a-8970-be67781dba40",
   "metadata": {},
   "outputs": [
    {
     "data": {
      "text/plain": [
       "'The math requirement for incoming freshmen at UW-Madison is 3 years of math, which includes Algebra and Plane Geometry, as well as College-Preparatory Math, which can be fulfilled with one year in high school or one college course at the level of Algebra 2 or beyond. Thanks for asking!'"
      ]
     },
     "execution_count": 46,
     "metadata": {},
     "output_type": "execute_result"
    }
   ],
   "source": [
    "rag_chain.invoke(\"What are the Math requirnment for incoming freshman?\")"
   ]
  },
  {
   "cell_type": "code",
   "execution_count": 47,
   "id": "ecdc7c6e-138d-4691-a7be-d41d8fe9ac25",
   "metadata": {},
   "outputs": [
    {
     "data": {
      "text/plain": [
       "'UW-Madison accepts English proficiency exams such as TOEFL, IELTS, and Duolingo English Test for international students. However, if you believe you qualify for a waiver based on your high school transcript, please submit the required transcripts to our office for review. Thanks for asking!'"
      ]
     },
     "execution_count": 47,
     "metadata": {},
     "output_type": "execute_result"
    }
   ],
   "source": [
    "rag_chain.invoke(\"What English tests does UW Madison Accept for international students?\")"
   ]
  },
  {
   "cell_type": "code",
   "execution_count": 48,
   "id": "47a8175a-a22f-4206-87e2-41e97da9b73c",
   "metadata": {},
   "outputs": [
    {
     "data": {
      "text/plain": [
       "'Yes, the Duolingo English Test (DET) is accepted as an English proficiency exam, with a minimum required score of 115+. Thanks for asking!'"
      ]
     },
     "execution_count": 48,
     "metadata": {},
     "output_type": "execute_result"
    }
   ],
   "source": [
    "rag_chain.invoke(\"Is Duoloingo accepted?\")"
   ]
  },
  {
   "cell_type": "code",
   "execution_count": 49,
   "id": "377f28f8-a83a-42b0-b16a-8018b164be62",
   "metadata": {},
   "outputs": [
    {
     "data": {
      "text/plain": [
       "'The Early Action deadline for Fall admission is November 1. Applications and all required materials must be submitted by 11:59 p.m. Pacific Time on this date. Thanks for asking!'"
      ]
     },
     "execution_count": 49,
     "metadata": {},
     "output_type": "execute_result"
    }
   ],
   "source": [
    "rag_chain.invoke(\"early action deadline?\")"
   ]
  },
  {
   "cell_type": "code",
   "execution_count": 50,
   "id": "385af11e-e8d7-450f-a858-b32246a20ff4",
   "metadata": {},
   "outputs": [
    {
     "data": {
      "text/plain": [
       "'You can still apply through the Fall Regular Decision process, with a deadline of January 15. Make sure to submit your application and all required materials by 11:59 p.m. Pacific Time on January 15. If you have any questions or concerns, I recommend reaching out to our admissions office for guidance. Thanks for asking!'"
      ]
     },
     "execution_count": 50,
     "metadata": {},
     "output_type": "execute_result"
    }
   ],
   "source": [
    "rag_chain.invoke(\"I missed the early application deadline, what are my options? Can I still reach out to someone?\")"
   ]
  },
  {
   "cell_type": "code",
   "execution_count": 51,
   "id": "24c4541c-1144-416c-8157-b8b412c23536",
   "metadata": {},
   "outputs": [
    {
     "data": {
      "text/plain": [
       "\"As a second degree student, not all programs are able to accept second degree students, and you'll need to review school and college specific requirements to determine if the program you're interested in accepts second degree applicants. Additionally, some colleges like the Wisconsin School of Business and College of Engineering do not accept second degree applicants. Thanks for asking!\""
      ]
     },
     "execution_count": 51,
     "metadata": {},
     "output_type": "execute_result"
    }
   ],
   "source": [
    "rag_chain.invoke(\"What are my limitations if I am a second degree student?\")"
   ]
  },
  {
   "cell_type": "code",
   "execution_count": null,
   "id": "e92a6c40-e16b-4463-bcce-84ba80c24693",
   "metadata": {},
   "outputs": [],
   "source": []
  },
  {
   "cell_type": "code",
   "execution_count": null,
   "id": "6528b467-568f-4175-aba3-8e1161226c4c",
   "metadata": {},
   "outputs": [],
   "source": []
  }
 ],
 "metadata": {
  "kernelspec": {
   "display_name": "Python 3 (ipykernel)",
   "language": "python",
   "name": "python3"
  },
  "language_info": {
   "codemirror_mode": {
    "name": "ipython",
    "version": 3
   },
   "file_extension": ".py",
   "mimetype": "text/x-python",
   "name": "python",
   "nbconvert_exporter": "python",
   "pygments_lexer": "ipython3",
   "version": "3.12.4"
  }
 },
 "nbformat": 4,
 "nbformat_minor": 5
}
