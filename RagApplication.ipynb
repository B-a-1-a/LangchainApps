{
 "cells": [
  {
   "cell_type": "code",
   "execution_count": 2,
   "id": "fa370055-9147-4e6a-9e6b-561dbc507de5",
   "metadata": {},
   "outputs": [],
   "source": [
    "#print(\"yo yo\")\n",
    "import warnings\n",
    "warnings.filterwarnings('ignore')\n"
   ]
  },
  {
   "cell_type": "code",
   "execution_count": 3,
   "id": "1157dde4-0c69-4e28-826d-0f011dc88d0a",
   "metadata": {
    "editable": true,
    "slideshow": {
     "slide_type": ""
    },
    "tags": [
     "hide-output"
    ]
   },
   "outputs": [],
   "source": [
    "# !pip install ipywidgets;\n",
    "# !pip install langchain langchain_community langchain_chroma;\n",
    "# !pip install -qU langchain-groq;\n",
    "# !pip install -U langchain-huggingface;"
   ]
  },
  {
   "cell_type": "code",
   "execution_count": 4,
   "id": "2923ee7f-d023-45b7-976f-e2329a544668",
   "metadata": {},
   "outputs": [
    {
     "name": "stdin",
     "output_type": "stream",
     "text": [
      " ········\n"
     ]
    }
   ],
   "source": [
    "import getpass\n",
    "import os\n",
    "\n",
    "os.environ[\"GROQ_API_KEY\"] = getpass.getpass()\n",
    "\n",
    "from langchain_groq import ChatGroq\n",
    "\n",
    "llm = ChatGroq(model=\"llama3-70b-8192\")"
   ]
  },
  {
   "cell_type": "code",
   "execution_count": 5,
   "id": "a322a827-4830-4e67-ae1f-29cfcb3cf037",
   "metadata": {},
   "outputs": [
    {
     "data": {
      "text/plain": [
       "21182"
      ]
     },
     "execution_count": 5,
     "metadata": {},
     "output_type": "execute_result"
    }
   ],
   "source": [
    "import bs4\n",
    "from langchain import hub\n",
    "from langchain_chroma import Chroma\n",
    "from langchain_community.document_loaders import WebBaseLoader\n",
    "from langchain_core.output_parsers import StrOutputParser\n",
    "from langchain_core.runnables import RunnablePassthrough\n",
    "from langchain_huggingface import HuggingFaceEmbeddings\n",
    "from langchain_text_splitters import RecursiveCharacterTextSplitter\n",
    "\n",
    "# Load, chunk and index the contents of the blog.\n",
    "loader = WebBaseLoader([\"https://admissions.wisc.edu/apply-as-a-freshman/\", \"https://admissions.wisc.edu/apply-as-a-transfer/\", \n",
    "                        \"https://admissions.wisc.edu/apply-as-a-reentry-student/\", \n",
    "                        \"https://admissions.wisc.edu/apply-as-a-second-degree-student/\"]\n",
    ")\n",
    "\n",
    "docs = loader.load()\n",
    "len(docs[0].page_content)\n",
    "\n",
    "#docs\n"
   ]
  },
  {
   "cell_type": "code",
   "execution_count": 6,
   "id": "450f79ec-b91a-41eb-a491-b446125d6a3e",
   "metadata": {},
   "outputs": [
    {
     "name": "stdout",
     "output_type": "stream",
     "text": [
      "{'source': 'https://admissions.wisc.edu/apply-as-a-transfer/', 'title': 'Apply as a Transfer Student – Office of Admissions and Recruitment – UW–Madison', 'description': 'Every year, we are fortunate to receive thousands of\\xa0applications\\xa0from a diverse range of students who are incredibly bright, engaged, and passionate. They have challenged themselves and those around them to make a difference in the world. They know that the University of Wisconsin–Madison is their next step toward something extraordinary—a place where they can lead.', 'language': 'en-US'}\n"
     ]
    }
   ],
   "source": [
    "len(docs)\n",
    "print(docs[1].metadata)"
   ]
  },
  {
   "cell_type": "code",
   "execution_count": 7,
   "id": "9ae6bd0f-7d01-4173-ac1a-1ded81a4e9c0",
   "metadata": {},
   "outputs": [],
   "source": [
    "text_splitter = RecursiveCharacterTextSplitter(chunk_size=800, chunk_overlap=300)\n",
    "splits = text_splitter.split_documents(docs)\n",
    "vectorstore = Chroma.from_documents(documents=splits, embedding=HuggingFaceEmbeddings())\n",
    "\n",
    "# Retrieve and generate using the relevant snippets of the blog.\n",
    "retriever = vectorstore.as_retriever()"
   ]
  },
  {
   "cell_type": "code",
   "execution_count": 8,
   "id": "31cd1329-7805-490a-b19d-5e1e377e6cf7",
   "metadata": {},
   "outputs": [],
   "source": [
    "def format_docs(docs):\n",
    "    return \"\\n\\n\".join(doc.page_content for doc in docs)"
   ]
  },
  {
   "cell_type": "code",
   "execution_count": 9,
   "id": "1a4bd3d1-b1c4-463a-a7c9-92f911b2d4ea",
   "metadata": {},
   "outputs": [],
   "source": [
    "# from langchain_core.prompts import PromptTemplate\n",
    "\n",
    "# template = \"\"\"You are an addmissions advisor at UW Madison, use the following pieces of context to aid your answer to the question at the end.\n",
    "# If you don't know the answer, say that you don't know, but you recommend the student to consult wisc.edu and reach out to admissions or help offices.\n",
    "# Use three sentences maximum and keep the answer as concise as possible.\n",
    "# If the student has not specified what type of student they are, assume First-Year Student. \n",
    "# Always say \"thanks for asking!\" at the end of the answer.\n",
    "\n",
    "# Context: {context}\n",
    "\n",
    "# Question: {question}\n",
    "\n",
    "# Helpful Answer:\"\"\"\n",
    "# college_advisor = PromptTemplate.from_template(template)"
   ]
  },
  {
   "cell_type": "code",
   "execution_count": 10,
   "id": "a0a531c6-4164-4f84-8e92-c272732116aa",
   "metadata": {},
   "outputs": [],
   "source": [
    "# rag_chain = (\n",
    "#     {\"context\": retriever | format_docs, \"question\": RunnablePassthrough()}\n",
    "#     | college_advisor\n",
    "#     | llm\n",
    "#     | StrOutputParser()\n",
    "# )\n",
    "\n",
    "# rag_chain.invoke(\"What is RAG?\")"
   ]
  },
  {
   "cell_type": "code",
   "execution_count": 11,
   "id": "509c4b6a-4564-44ea-ac6d-75ce3954ed85",
   "metadata": {},
   "outputs": [],
   "source": [
    "from langchain.chains import create_retrieval_chain\n",
    "from langchain_core.prompts import ChatPromptTemplate\n",
    "from langchain.chains.combine_documents import create_stuff_documents_chain\n",
    "\n",
    "system_prompt = (\n",
    "\"\"\"You are an addmissions advisor at UW Madison, use the following pieces of context to aid your answer to the question at the end.\n",
    "If you don't know the answer, say that you don't know, but you recommend the student to consult wisc.edu and reach out to admissions or help offices.\n",
    "Use three sentences maximum and keep the answer as concise as possible.\n",
    "If the student has not specified what type of student they are, assume First-Year Student. \n",
    "Always say \"thanks for asking!\" at the end of the answer.\n",
    "\n",
    "Context: {context}\"\"\"\n",
    ")\n",
    "\n",
    "prompt = ChatPromptTemplate.from_messages(\n",
    "    [\n",
    "        (\"system\", system_prompt),\n",
    "        (\"human\", \"{input}\"),\n",
    "    ]\n",
    ")\n",
    "\n",
    "question_answer_chain = create_stuff_documents_chain(llm, prompt)\n",
    "rag_chain = create_retrieval_chain(retriever, question_answer_chain)"
   ]
  },
  {
   "cell_type": "code",
   "execution_count": 12,
   "id": "0dcbf36c-7710-4e9a-8970-be67781dba40",
   "metadata": {},
   "outputs": [
    {
     "data": {
      "text/plain": [
       "'The Math requirement for incoming freshmen is 3 years of math in high school, which must include one year each of algebra, plane geometry, and college-preparatory math. Thanks for asking!'"
      ]
     },
     "execution_count": 12,
     "metadata": {},
     "output_type": "execute_result"
    }
   ],
   "source": [
    "rag_chain.invoke({\"input\" : \"What are the Math requirements for incoming freshman?\"}).get('answer', 'No answer found')"
   ]
  },
  {
   "cell_type": "code",
   "execution_count": 13,
   "id": "385af11e-e8d7-450f-a858-b32246a20ff4",
   "metadata": {},
   "outputs": [
    {
     "data": {
      "text/plain": [
       "{'input': 'I missed the early application deadline, what are my options? Can I still reach out to someone?',\n",
       " 'context': [Document(metadata={'description': 'Every year, we are fortunate to receive thousands of\\xa0applications\\xa0from a diverse range of students who are incredibly bright, engaged, and passionate. They have challenged themselves and those around them to make a difference in the world. They know that the University of Wisconsin–Madison is their next step toward something extraordinary—a place where they can lead.', 'language': 'en-US', 'source': 'https://admissions.wisc.edu/apply-as-a-freshman/', 'title': 'Apply as a First-Year Student – Office of Admissions and Recruitment – UW–Madison'}, page_content='Fall Early Action\\nNovember 1\\nNovember 8\\nOn or before January 31\\n\\n\\nFall Regular Decision\\nJanuary 15\\nJanuary 22\\nOn or before March 31\\n\\n\\n\\nApplications and all required application materials must arrive in our office by 11:59 p.m. Pacific Time on the noted deadline dates.\\nPlease note that it may take up to 72 hours for our system to reflect that you have submitted an application; you will receive an email the next business day acknowledging its receipt.\\nStudents who submit their application within 5 days of the deadline will not receive a reminder of materials that are missing from their application.\\nEarly Action is non-binding. You’ll receive your admissions decision earlier but will not be required to commit until the national deadline of May 15.'),\n",
       "  Document(metadata={'description': 'Every year, we are fortunate to receive thousands of\\xa0applications\\xa0from a diverse range of students who are incredibly bright, engaged, and passionate. They have challenged themselves and those around them to make a difference in the world. They know that the University of Wisconsin–Madison is their next step toward something extraordinary—a place where they can lead.', 'language': 'en-US', 'source': 'https://admissions.wisc.edu/apply-as-a-transfer/', 'title': 'Apply as a Transfer Student – Office of Admissions and Recruitment – UW–Madison'}, page_content='In addition to submitting your application, you will need to submit all required materials to complete your application. All required application materials must arrive in our office by 11:59 p.m. Pacific Time on the noted deadline dates.\\nWe strongly recommend that you request materials early and allow plenty of time for them to arrive to our office.'),\n",
       "  Document(metadata={'description': 'Every year, we are fortunate to receive thousands of\\xa0applications\\xa0from a diverse range of students who are incredibly bright, engaged, and passionate. They have challenged themselves and those around them to make a difference in the world. They know that the University of Wisconsin–Madison is their next step toward something extraordinary—a place where they can lead.', 'language': 'en-US', 'source': 'https://admissions.wisc.edu/apply-as-a-transfer/', 'title': 'Apply as a Transfer Student – Office of Admissions and Recruitment – UW–Madison'}, page_content='Spring Regular Decision\\nAugust 1\\nOctober 1\\nOctober 15\\nOn or before December 31\\n\\n\\nFall Priority Decision\\nDecember 1\\nFebruary 1\\nFebruary 17\\nOn or before March 31\\n\\n\\nFall Regular Decision\\nDecember 1\\nMarch 1\\nMarch 17\\nOn or before April 30\\n\\n\\n\\nApplications and all required application materials must arrive in our office by 11:59 p.m. Pacific Time on the noted deadline dates.\\nPlease note that it may take up to 72 hours for our system to reflect that you have submitted an application; you will receive an email the next business day acknowledging its receipt.\\nStudents who submit their application within 5 days of the deadline will not receive a reminder of materials that are missing from their application.'),\n",
       "  Document(metadata={'description': 'Students who previously attended the University of Wisconsin–Madison as an undergraduate and would like to complete their first undergraduate degree will need to apply for reentry admission. Reentry students are those who have not been enrolled in courses for a semester or more. The primary admission consideration for reentry students is your academic record.', 'language': 'en-US', 'source': 'https://admissions.wisc.edu/apply-as-a-reentry-student/', 'title': 'Apply as a Reentry Student – Office of Admissions and Recruitment – UW–Madison'}, page_content='How to Apply\\nThere are two ways you can access the reentry application:\\n\\nStudents last enrolled\\xa0Fall 2010 or later: Access the reentry application through the Student Center\\xa0with your\\xa0NetID and password.\\nStudents last enrolled\\xa0prior to Fall 2010: Access the reentry application through My Info.\\n\\nIf you have forgotten your NetID and password, you can use\\xa0My Info\\xa0to access the reentry application. If you have forgotten your Campus ID number (needed for the My Info page), contact the Office of the Registrar at 608-262-3811.\\nWithin the Student Center, you can access the reentry application:\\n\\nUnder the “Academic Records” tile (review this screenshot).\\nSelect the menu on the left for “Request for Reentry.”\\nClick on the “Create a New Reentry Application” button.')],\n",
       " 'answer': \"Don't worry! If you missed the Early Action deadline, you can still apply through the Regular Decision process, which has a deadline of January 15. You can submit your application and required materials by 11:59 p.m. Pacific Time on January 15. I recommend reaching out to our Admissions Office for guidance on the application process. Thanks for asking!\"}"
      ]
     },
     "execution_count": 13,
     "metadata": {},
     "output_type": "execute_result"
    }
   ],
   "source": [
    "rag_chain.invoke({\"input\" : \"I missed the early application deadline, what are my options? Can I still reach out to someone?\"})"
   ]
  },
  {
   "cell_type": "code",
   "execution_count": 17,
   "id": "e92a6c40-e16b-4463-bcce-84ba80c24693",
   "metadata": {},
   "outputs": [],
   "source": [
    "#%pip install langgraph"
   ]
  },
  {
   "cell_type": "code",
   "execution_count": 21,
   "id": "6528b467-568f-4175-aba3-8e1161226c4c",
   "metadata": {},
   "outputs": [],
   "source": [
    "# RAG Agent approach:\n",
    "\n",
    "from langgraph.checkpoint.memory import MemorySaver\n",
    "from langgraph.prebuilt import create_react_agent\n",
    "\n",
    "memory = MemorySaver()\n",
    "\n",
    "# Build retriever tool\n",
    "tool = create_retriever_tool(\n",
    "    retriever,\n",
    "    \"blog_post_retriever\",\n",
    "    \"Searches and returns excerpts from the Autonomous Agents blog post.\",\n",
    ")\n",
    "tools = [tool]\n",
    "\n",
    "\n",
    "agent_executor = create_react_agent(llm, tools, checkpointer=memory)"
   ]
  },
  {
   "cell_type": "code",
   "execution_count": 26,
   "id": "b8d330b9-0643-4423-92fd-668d3e951d63",
   "metadata": {},
   "outputs": [
    {
     "name": "stdout",
     "output_type": "stream",
     "text": [
      "{'agent': {'messages': [AIMessage(content='', additional_kwargs={'tool_calls': [{'id': 'call_th9c', 'function': {'arguments': '{\"query\":\"Math requirements for incoming freshman\"}', 'name': 'blog_post_retriever'}, 'type': 'function'}]}, response_metadata={'token_usage': {'completion_tokens': 50, 'prompt_tokens': 929, 'total_tokens': 979, 'completion_time': 0.160007407, 'prompt_time': 0.068597862, 'queue_time': 0.012744027000000005, 'total_time': 0.228605269}, 'model_name': 'llama3-70b-8192', 'system_fingerprint': 'fp_87cbfbbc4d', 'finish_reason': 'tool_calls', 'logprobs': None}, id='run-0699d263-547a-4c92-b694-654cae29d981-0', tool_calls=[{'name': 'blog_post_retriever', 'args': {'query': 'Math requirements for incoming freshman'}, 'id': 'call_th9c', 'type': 'tool_call'}], usage_metadata={'input_tokens': 929, 'output_tokens': 50, 'total_tokens': 979})]}}\n",
      "----\n",
      "{'tools': {'messages': [ToolMessage(content='Subject Area\\nMinimum Requirement \\n\\n\\n\\n\\nEnglish\\n4 years\\n\\n\\nMath *\\n3 years\\n\\n\\nSocial Science\\n3 years\\n\\n\\nNatural Science\\n3 years\\n\\n\\nElectives**\\n4 years\\n\\n\\nTotal Units\\n17 credits\\n\\nAlgebra: One year in high school\\nPlane Geometry: One year in high school (cannot be modified, basic, or informal)\\nCollege-Preparatory Math: One year in high school, or one college course at the level of Algebra 2 or beyond\\nSingle World Language: Two years of the same language in high school or two semesters of the same language in college*\\n\\nNote: For trimester schools, two trimesters is considered one year/credit. One trimester is considered 0.5 years/credits.\\n*Math requirement includes at least one year each of algebra, geometry, and advanced math with algebra or geometry prerequisites. If an applicant takes any of these courses in middle school, that will count toward the requirement. Courses that will not fulfill this requirement include statistics, business math, and computer classes.\\n**Taking two years of the same world language in high school is highly recommended, as this can fulfill the world language requirement as a student at UW–Madison.\\nStudents who do not fulfill the university world language requirement with high school work will be required to do so as a student at UW–Madison.\\n\\nCourse breadth. Showing a combination of English, math, science, literature, social science, and world language.\\nGrade trends and patterns. Steady or improving trends and patterns that show consistency across all academic areas.\\nRequired courses. Applicants must have completed one year each of high school algebra, plane geometry, and college-preparatory math, and two high school years or two college semesters of a single world language*.', name='blog_post_retriever', tool_call_id='call_th9c')]}}\n",
      "----\n",
      "{'agent': {'messages': [AIMessage(content='The math requirements for incoming freshmen are:\\n\\n* 3 years of math in high school\\n* Algebra: One year in high school\\n* Plane Geometry: One year in high school (cannot be modified, basic, or informal)\\n* College-Preparatory Math: One year in high school, or one college course at the level of Algebra 2 or beyond\\n\\nAdditionally, the math requirement includes at least one year each of algebra, geometry, and advanced math with algebra or geometry prerequisites.', response_metadata={'token_usage': {'completion_tokens': 100, 'prompt_tokens': 1349, 'total_tokens': 1449, 'completion_time': 0.320971642, 'prompt_time': 0.07289032, 'queue_time': 0.006593919000000004, 'total_time': 0.393861962}, 'model_name': 'llama3-70b-8192', 'system_fingerprint': 'fp_87cbfbbc4d', 'finish_reason': 'stop', 'logprobs': None}, id='run-ff899c41-070e-428a-b39e-e3c53d34f9a9-0', usage_metadata={'input_tokens': 1349, 'output_tokens': 100, 'total_tokens': 1449})]}}\n",
      "----\n"
     ]
    }
   ],
   "source": [
    "from langchain_core.messages import HumanMessage, SystemMessage\n",
    "\n",
    "config = {\"configurable\": {\"thread_id\": \"abc123\"}}\n",
    "\n",
    "query = \"What are the Math requirements for incoming freshman?\"\n",
    "for s in agent_executor.stream(\n",
    "    {\"messages\": [HumanMessage(content=query)]}, config=config\n",
    "):\n",
    "    print(s)\n",
    "    print(\"----\")"
   ]
  },
  {
   "cell_type": "code",
   "execution_count": null,
   "id": "10d5a7c7-9a70-4613-aebd-0a5f078fbcdc",
   "metadata": {},
   "outputs": [],
   "source": []
  },
  {
   "cell_type": "code",
   "execution_count": null,
   "id": "9027d504-c0b7-4459-9e7e-7d4824839932",
   "metadata": {},
   "outputs": [],
   "source": []
  }
 ],
 "metadata": {
  "kernelspec": {
   "display_name": "Python 3 (ipykernel)",
   "language": "python",
   "name": "python3"
  },
  "language_info": {
   "codemirror_mode": {
    "name": "ipython",
    "version": 3
   },
   "file_extension": ".py",
   "mimetype": "text/x-python",
   "name": "python",
   "nbconvert_exporter": "python",
   "pygments_lexer": "ipython3",
   "version": "3.12.4"
  }
 },
 "nbformat": 4,
 "nbformat_minor": 5
}
